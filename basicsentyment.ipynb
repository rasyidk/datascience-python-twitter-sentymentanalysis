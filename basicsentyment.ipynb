{
 "cells": [
  {
   "cell_type": "code",
   "execution_count": 167,
   "metadata": {},
   "outputs": [],
   "source": [
    "import tweepy as tw\n",
    "from textblob import TextBlob"
   ]
  },
  {
   "cell_type": "code",
   "execution_count": 168,
   "metadata": {},
   "outputs": [],
   "source": [
    "consumer_key = 'JFejbZYbMBX7Ft9rm7fP0dPnb'\n",
    "consumer_secret = 'XEX5P95kIgCf5FfNIa8Jxa7f9bSScuQ6crGwSUQnNyITwd5BEo'\n",
    "access_token = '1212606701632815106-Jc7I2paysD8ucbGMZ0y5XrHhsuzIMA'\n",
    "access_token_secret = 'uBq3PTop2s55wuORPffsBlVt0M6sjxBUAnND4DMsU0dZk'"
   ]
  },
  {
   "cell_type": "code",
   "execution_count": 169,
   "metadata": {},
   "outputs": [],
   "source": [
    "auth = tweepy.OAuthHandler(consumer_key, consumer_secret)"
   ]
  },
  {
   "cell_type": "code",
   "execution_count": 170,
   "metadata": {},
   "outputs": [],
   "source": [
    "auth.set_access_token(access_token, access_token_secret)"
   ]
  },
  {
   "cell_type": "code",
   "execution_count": 171,
   "metadata": {},
   "outputs": [],
   "source": [
    "api = tw.API(auth, wait_on_rate_limit=True)"
   ]
  },
  {
   "cell_type": "code",
   "execution_count": 172,
   "metadata": {},
   "outputs": [],
   "source": [
    "public_tweets = api.search('@rasyidkwkwkw')"
   ]
  },
  {
   "cell_type": "code",
   "execution_count": 173,
   "metadata": {},
   "outputs": [
    {
     "name": "stdout",
     "output_type": "stream",
     "text": [
      "@rasyidkwkwkw @rasyidkwkwkw i me you hahahaha you ajkakaka\n",
      "Sentiment(polarity=0.2, subjectivity=0.5)\n",
      "Positive\n",
      "\n",
      "@rasyidkwkwkw gasske\n",
      "Sentiment(polarity=0.0, subjectivity=0.0)\n",
      "Negative\n",
      "\n",
      "@rasyidkwkwkw zzzz\n",
      "Sentiment(polarity=0.0, subjectivity=0.0)\n",
      "Negative\n",
      "\n",
      "@rasyidkwkwkw Senengane ra ngoco-_-\n",
      "Sentiment(polarity=0.0, subjectivity=0.0)\n",
      "Negative\n",
      "\n",
      "@rasyidkwkwkw @AditiyaAgit Apa to apaa\n",
      "Sentiment(polarity=0.0, subjectivity=0.0)\n",
      "Negative\n",
      "\n",
      "@rasyidkwkwkw I feellllll\n",
      "Sentiment(polarity=0.0, subjectivity=0.0)\n",
      "Negative\n",
      "\n",
      "@rasyidkwkwkw Kita cari masa indah snedirii :)\n",
      "Sentiment(polarity=0.5, subjectivity=1.0)\n",
      "Positive\n",
      "\n",
      "RT @rasyidkwkwkw: Katanya masa indah di sma.  Tapi aku smk.  Jadi suram\n",
      "Sentiment(polarity=0.0, subjectivity=0.0)\n",
      "Negative\n",
      "\n",
      "@rasyidkwkwkw Aing juga smk, pembangunan meneh\n",
      "Sentiment(polarity=0.0, subjectivity=0.0)\n",
      "Negative\n",
      "\n",
      "@rasyidkwkwkw Adus banyu anget keli\n",
      "Sentiment(polarity=0.0, subjectivity=0.0)\n",
      "Negative\n",
      "\n",
      "@rasyidkwkwkw Di ritwit ben do sadar nak kabeh i ono wayah e hiyahiya\n",
      "Sentiment(polarity=0.0, subjectivity=0.0)\n",
      "Negative\n",
      "\n",
      "@rasyidkwkwkw @Fachrezidr_ Bukan masalah, bucin kamu mas rez :v\n",
      "Sentiment(polarity=0.0, subjectivity=0.0)\n",
      "Negative\n",
      "\n",
      "@rasyidkwkwkw @AditiyaAgit Cen, agit i bucin.\n",
      "Sentiment(polarity=0.0, subjectivity=0.0)\n",
      "Negative\n",
      "\n",
      "@rasyidkwkwkw Sama w juga\n",
      "Sentiment(polarity=0.0, subjectivity=0.0)\n",
      "Negative\n",
      "\n",
      "@rasyidkwkwkw Uppp preiii\n",
      "Sentiment(polarity=0.0, subjectivity=0.0)\n",
      "Negative\n",
      "\n"
     ]
    }
   ],
   "source": [
    "for tweet in public_tweets:\n",
    "    print(tweet.text)\n",
    "    analysis = TextBlob(tweet.text)\n",
    "    print(analysis.sentiment)\n",
    "    if analysis.sentiment[0]>0:\n",
    "        print ('Positive')\n",
    "    else:\n",
    "        print ('Negative')\n",
    "    print(\"\")\n"
   ]
  },
  {
   "cell_type": "code",
   "execution_count": 174,
   "metadata": {},
   "outputs": [
    {
     "name": "stderr",
     "output_type": "stream",
     "text": [
      "[nltk_data] Downloading package punkt to\n",
      "[nltk_data]     C:\\Users\\Rasyidk\\AppData\\Roaming\\nltk_data...\n",
      "[nltk_data]   Package punkt is already up-to-date!\n"
     ]
    },
    {
     "data": {
      "text/plain": [
       "True"
      ]
     },
     "execution_count": 174,
     "metadata": {},
     "output_type": "execute_result"
    }
   ],
   "source": [
    "import re\n",
    "from nltk.tokenize import word_tokenize\n",
    "from string import punctuation \n",
    "from nltk.corpus import stopwords \n",
    "import nltk\n",
    "nltk.download('punkt')"
   ]
  },
  {
   "cell_type": "code",
   "execution_count": 186,
   "metadata": {},
   "outputs": [
    {
     "name": "stdout",
     "output_type": "stream",
     "text": [
      "Sentiment(polarity=0.2, subjectivity=0.5)\n",
      "Positive\n",
      "\n",
      "hahahaha ajkakaka\n",
      "Sentiment(polarity=0.0, subjectivity=0.0)\n",
      "Negative\n",
      "\n",
      "gasske\n",
      "Sentiment(polarity=0.0, subjectivity=0.0)\n",
      "Negative\n",
      "\n",
      "zzzz\n",
      "Sentiment(polarity=0.0, subjectivity=0.0)\n",
      "Negative\n",
      "\n",
      "senengane ra ngoco-_-\n",
      "Sentiment(polarity=0.0, subjectivity=0.0)\n",
      "Negative\n",
      "\n",
      "apa apaa\n",
      "Sentiment(polarity=0.0, subjectivity=0.0)\n",
      "Negative\n",
      "\n",
      "feellllll\n",
      "Sentiment(polarity=0.5, subjectivity=1.0)\n",
      "Positive\n",
      "\n",
      "kita cari masa indah snedirii :)\n",
      "Sentiment(polarity=0.0, subjectivity=0.0)\n",
      "Negative\n",
      "\n",
      "katanya masa indah di sma. tapi aku smk. jadi suram\n",
      "Sentiment(polarity=0.0, subjectivity=0.0)\n",
      "Negative\n",
      "\n",
      "aing juga smk, pembangunan meneh\n",
      "Sentiment(polarity=0.0, subjectivity=0.0)\n",
      "Negative\n",
      "\n",
      "adus banyu anget keli\n",
      "Sentiment(polarity=0.0, subjectivity=0.0)\n",
      "Negative\n",
      "\n",
      "di ritwit ben sadar nak kabeh ono wayah e hiyahiya\n",
      "Sentiment(polarity=0.0, subjectivity=0.0)\n",
      "Negative\n",
      "\n",
      "bukan masalah, bucin kamu mas rez :v\n",
      "Sentiment(polarity=0.0, subjectivity=0.0)\n",
      "Negative\n",
      "\n",
      "cen, agit bucin.\n",
      "Sentiment(polarity=0.0, subjectivity=0.0)\n",
      "Negative\n",
      "\n",
      "sama w juga\n",
      "Sentiment(polarity=0.0, subjectivity=0.0)\n",
      "Negative\n",
      "\n",
      "uppp preiii\n"
     ]
    }
   ],
   "source": [
    "for tweet in public_tweets:\n",
    "    twt = str(tweet.text)\n",
    "    twt = twt.lower()\n",
    "    twt = re.sub('((www\\.[^\\s]+)|(https?://[^\\s]+))', 'URL', twt) # remove URLs\n",
    "    twt = re.sub('@[^\\s]+', 'AT_USER', twt) # remove usernames\n",
    "    twt = re.sub(r'#([^\\s]+)', r'\\1', twt) # remove the # in #hashtag\n",
    "    twt = re.sub('AT_USER', '', twt)\n",
    "    twt = re.sub('URL', '', twt)\n",
    "    twt = re.sub('rt', '', twt)\n",
    "    twt = ' '.join([word for word in twt.split() if word not in stopwords.words(\"english\")])\n",
    "  \n",
    "    analysis = TextBlob(twt)\n",
    "    print(analysis.sentiment)\n",
    "    if analysis.sentiment[0]>0:\n",
    "        print ('Positive')\n",
    "    else:\n",
    "        print ('Negative')\n",
    "    print(\"\")\n",
    "    print(twt)\n",
    "\n",
    "          \n",
    "    \n",
    "    "
   ]
  },
  {
   "cell_type": "code",
   "execution_count": null,
   "metadata": {},
   "outputs": [],
   "source": []
  }
 ],
 "metadata": {
  "kernelspec": {
   "display_name": "Python 3",
   "language": "python",
   "name": "python3"
  },
  "language_info": {
   "codemirror_mode": {
    "name": "ipython",
    "version": 3
   },
   "file_extension": ".py",
   "mimetype": "text/x-python",
   "name": "python",
   "nbconvert_exporter": "python",
   "pygments_lexer": "ipython3",
   "version": "3.7.4"
  }
 },
 "nbformat": 4,
 "nbformat_minor": 2
}
